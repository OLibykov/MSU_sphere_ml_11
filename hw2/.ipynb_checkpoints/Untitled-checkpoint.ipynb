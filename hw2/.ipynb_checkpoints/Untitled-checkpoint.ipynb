{
 "cells": [
  {
   "cell_type": "code",
   "execution_count": 2,
   "id": "7897a289",
   "metadata": {
    "scrolled": true
   },
   "outputs": [],
   "source": [
    "import pandas as pd\n",
    "import numpy as np\n",
    "import matplotlib.pyplot as plt\n",
    "%load_ext pycodestyle_magic\n",
    "\n",
    "%matplotlib inline\n",
    "\n",
    "plt.style.use('ggplot')\n",
    "plt.rcParams['figure.figsize'] = (12, 5)"
   ]
  },
  {
   "cell_type": "code",
   "execution_count": 30,
   "id": "5d379593",
   "metadata": {},
   "outputs": [],
   "source": [
    "%pycodestyle_on"
   ]
  },
  {
   "cell_type": "code",
   "execution_count": 55,
   "id": "ebfccd8a",
   "metadata": {},
   "outputs": [
    {
     "data": {
      "text/plain": [
       "array([1, 4, 5, 6])"
      ]
     },
     "execution_count": 55,
     "metadata": {},
     "output_type": "execute_result"
    },
    {
     "name": "stderr",
     "output_type": "stream",
     "text": [
      "2:13: E128 continuation line under-indented for visual indent\n"
     ]
    }
   ],
   "source": [
    "a = np.array([[1, 2, 3],\n",
    "            [1, 2, 3],\n",
    "            [1, 2, 3],\n",
    "            [1, 2, 3]])\n",
    "b = np.array([4, 5, 6])\n",
    "b = np.append(1, b)\n",
    "b"
   ]
  },
  {
   "cell_type": "code",
   "execution_count": 1,
   "id": "4b8a2ec3",
   "metadata": {},
   "outputs": [
    {
     "ename": "NameError",
     "evalue": "name 'np' is not defined",
     "output_type": "error",
     "traceback": [
      "\u001b[1;31m---------------------------------------------------------------------------\u001b[0m",
      "\u001b[1;31mNameError\u001b[0m                                 Traceback (most recent call last)",
      "\u001b[1;32m~\\AppData\\Local\\Temp\\ipykernel_14516\\1371558579.py\u001b[0m in \u001b[0;36m<module>\u001b[1;34m\u001b[0m\n\u001b[1;32m----> 1\u001b[1;33m a = np.array([[1, 2, 3, 4, 5],\n\u001b[0m\u001b[0;32m      2\u001b[0m               [6, 7, 8, 9, 0]])\n\u001b[0;32m      3\u001b[0m \u001b[0mb\u001b[0m \u001b[1;33m=\u001b[0m \u001b[0mnp\u001b[0m\u001b[1;33m.\u001b[0m\u001b[0marray\u001b[0m\u001b[1;33m(\u001b[0m\u001b[1;33m[\u001b[0m\u001b[1;33m[\u001b[0m\u001b[1;36m4\u001b[0m\u001b[1;33m,\u001b[0m \u001b[1;36m5\u001b[0m\u001b[1;33m,\u001b[0m \u001b[1;36m6\u001b[0m\u001b[1;33m,\u001b[0m \u001b[1;36m7\u001b[0m\u001b[1;33m,\u001b[0m \u001b[1;36m8\u001b[0m\u001b[1;33m]\u001b[0m\u001b[1;33m]\u001b[0m\u001b[1;33m)\u001b[0m\u001b[1;33m\u001b[0m\u001b[1;33m\u001b[0m\u001b[0m\n\u001b[0;32m      4\u001b[0m \u001b[0mc\u001b[0m \u001b[1;33m=\u001b[0m \u001b[0mnp\u001b[0m\u001b[1;33m.\u001b[0m\u001b[0mmatmul\u001b[0m\u001b[1;33m(\u001b[0m\u001b[0ma\u001b[0m\u001b[1;33m.\u001b[0m\u001b[0mT\u001b[0m\u001b[1;33m,\u001b[0m \u001b[0ma\u001b[0m\u001b[1;33m)\u001b[0m\u001b[1;33m\u001b[0m\u001b[1;33m\u001b[0m\u001b[0m\n\u001b[0;32m      5\u001b[0m \u001b[1;31m#np.matmul(c, b)\u001b[0m\u001b[1;33m\u001b[0m\u001b[1;33m\u001b[0m\u001b[1;33m\u001b[0m\u001b[0m\n",
      "\u001b[1;31mNameError\u001b[0m: name 'np' is not defined"
     ]
    }
   ],
   "source": [
    "a = np.array([[1, 2, 3, 4, 5],\n",
    "              [6, 7, 8, 9, 0]])\n",
    "b = np.array([[4, 5, 6, 7, 8]])\n",
    "c = np.matmul(a.T, a)\n",
    "#np.matmul(c, b)"
   ]
  },
  {
   "cell_type": "code",
   "execution_count": 11,
   "id": "204bc162",
   "metadata": {},
   "outputs": [
    {
     "data": {
      "text/plain": [
       "array([-1,  5,  0,  7,  8])"
      ]
     },
     "execution_count": 11,
     "metadata": {},
     "output_type": "execute_result"
    }
   ],
   "source": [
    "b = np.array([-1, 5, 0, 7, 8])\n",
    "b"
   ]
  },
  {
   "cell_type": "code",
   "execution_count": 12,
   "id": "4e7dd59d",
   "metadata": {},
   "outputs": [
    {
     "data": {
      "text/plain": [
       "array([0.26894142, 0.99330715, 0.5       , 0.99908895, 0.99966465])"
      ]
     },
     "execution_count": 12,
     "metadata": {},
     "output_type": "execute_result"
    }
   ],
   "source": [
    "1/(1+np.exp(-b))"
   ]
  },
  {
   "cell_type": "code",
   "execution_count": 4,
   "id": "c408f8b3",
   "metadata": {},
   "outputs": [
    {
     "name": "stdout",
     "output_type": "stream",
     "text": [
      "1\n"
     ]
    }
   ],
   "source": [
    "print(1)"
   ]
  },
  {
   "cell_type": "code",
   "execution_count": 22,
   "id": "ef65a63b",
   "metadata": {},
   "outputs": [],
   "source": [
    "def batch_generator(X, y, shuffle=False, batch_size=1):\n",
    "    \"\"\"\n",
    "    Гератор новых батчей для обучения\n",
    "    X          - матрица объекты-признаки\n",
    "    y_batch    - вектор ответов\n",
    "    shuffle    - нужно ли случайно перемешивать выборку\n",
    "    batch_size - размер батча ( 1 это SGD, > 1 mini-batch GD)\n",
    "    Генерирует подвыборку для итерации спуска (X_batch, y_batch)\n",
    "    \"\"\"\n",
    "    X = np.asarray(X)\n",
    "    y = np.asarray(y)\n",
    "    if shuffle:\n",
    "        X = np.hstack((X, y.reshape(-1, 1)))\n",
    "        np.random.shuffle(X)\n",
    "        y = X[:, -1]\n",
    "        X = np.delete(X, -1, axis=1)\n",
    "    # X_batch = \"\"\n",
    "    # y_batch = \"\"\n",
    "    for i in range(0, np.size(y), batch_size):\n",
    "        X_batch = X[i: i + batch_size, :]\n",
    "        y_batch = y[i: i + batch_size]\n",
    "        yield (X_batch, y_batch)"
   ]
  },
  {
   "cell_type": "code",
   "execution_count": 41,
   "id": "c7f1ca44",
   "metadata": {},
   "outputs": [],
   "source": [
    "#%%pycodestyle\n",
    "from sklearn.base import BaseEstimator, ClassifierMixin\n",
    "\n",
    "\n",
    "def sigmoid(x):\n",
    "    \"\"\"\n",
    "    Вычисляем значение сигмоида.\n",
    "    X - выход линейной модели\n",
    "    \"\"\"\n",
    "    sigma_value_x = 1/(1+np.exp(-x))\n",
    "    return sigma_value_x\n",
    "\n",
    "\n",
    "class MySGDClassifier(BaseEstimator, ClassifierMixin):\n",
    "    def __init__(self, batch_generator, C=1, alpha=0.01, max_epoch=10,\n",
    "                 model_type='lin_reg'):\n",
    "        \"\"\"\n",
    "        batch_generator -- функция генератор, которой будем создавать батчи\n",
    "        C - коэф. регуляризации\n",
    "        alpha - скорость спуска\n",
    "        max_epoch - максимальное количество эпох\n",
    "        model_type - тим модели, lin_reg или log_reg\n",
    "        \"\"\"\n",
    "        self.C = C\n",
    "        self.alpha = alpha\n",
    "        self.max_epoch = max_epoch\n",
    "        self.batch_generator = batch_generator\n",
    "        self.errors_log = {'iter' : [], 'loss' : []}  \n",
    "        self.model_type = model_type\n",
    "        \n",
    "    def calc_loss(self, X_batch, y_batch):\n",
    "        \"\"\"\n",
    "        Считаем функцию потерь по батчу \n",
    "        X_batch - матрица объекты-признаки по батчу\n",
    "        y_batch - вектор ответов по батчу\n",
    "        Не забудте тип модели (линейная или логистическая регрессия)!\n",
    "        \"\"\"\n",
    "        if self.model_type == 'lin_reg':\n",
    "            loss = np.mean((y_batch - X_batch @ self.weights) ** 2)\n",
    "            loss += 1/self.C * (self.weights ** 2)\n",
    "            loss -= 1/self.C * self.weights[0] ** 2\n",
    "        else:\n",
    "            sigma = sigmoid(X_batch @ self.weights)\n",
    "            loss = -np.mean(y_batch * np.log(sigma) + (1 - y_batch) * np.log(1 - sigma))\n",
    "            loss += 1/self.C * (self.weights ** 2)\n",
    "            loss -= 1/self.C * (self.weights[0] ** 2)\n",
    "        return loss\n",
    "    \n",
    "    def calc_loss_grad(self, X_batch, y_batch):\n",
    "        \"\"\"\n",
    "        Считаем  градиент функции потерь по батчу (то что Вы вывели в задании 1)\n",
    "        X_batch - матрица объекты-признаки по батчу\n",
    "        y_batch - вектор ответов по батчу\n",
    "        Не забудте тип модели (линейная или логистическая регрессия)!\n",
    "        \"\"\"\n",
    "        if self.model_type == 'lin_reg':\n",
    "            loss_grad = 2 * (X_batch.T @ X_batch) @ self.weights\n",
    "            loss_grad -= 2 * X_batch.T @ y_batch\n",
    "            loss_grad = loss_grad / np.size(y_batch)\n",
    "            loss_grad += 2/self.C * self.weights\n",
    "            loss_grad[0] -= 2/self.C * self.weights[0]\n",
    "        else:\n",
    "            a = self.predict(X_batch @ self.weights)\n",
    "            loss_grad = 2/self.C * self.weights-((y_batch - a) @ X_batch)/X_batch.shape[0]\n",
    "            #print(loss_grad)\n",
    "            loss_grad[0] = -np.sum(y_batch - a, axis = 0)/X_batch.shape[0]\n",
    "            #print(np.isclose(loss_grad[0], -np.sum(y_batch - sigma, axis = 0)/X_batch.shape[0]))\n",
    "        return loss_grad\n",
    "    \n",
    "    def update_weights(self, new_grad):\n",
    "        \"\"\"\n",
    "        Обновляем вектор весов\n",
    "        new_grad - градиент по батчу\n",
    "        \"\"\"\n",
    "        self.weights -= self.alpha * new_grad\n",
    "        pass\n",
    "    \n",
    "    def fit(self, X, y):\n",
    "        '''\n",
    "        Обучение модели\n",
    "        X - матрица объекты-признаки\n",
    "        y - вектор ответов\n",
    "        '''\n",
    "        \n",
    "        # Нужно инициализровать случайно веса\n",
    "        X = np.asarray(X)\n",
    "        self.weights = np.zeros(X.shape[1] + 1)\n",
    "        X = np.hstack((np.ones(X.shape[0]).reshape(-1,1), X))\n",
    "        \n",
    "        for n in range(0, self.max_epoch):\n",
    "            new_epoch_generator = self.batch_generator(X, y)\n",
    "            for batch_num, new_batch in enumerate(new_epoch_generator):\n",
    "                X_batch = new_batch[0]\n",
    "                y_batch = new_batch[1]\n",
    "                batch_grad = self.calc_loss_grad(X_batch, y_batch)\n",
    "                self.update_weights(batch_grad)\n",
    "                # Подумайте в каком месте стоит посчитать ошибку для отладки модели\n",
    "                # До градиентного шага или после\n",
    "                batch_loss = self.calc_loss(X_batch, y_batch)\n",
    "                self.errors_log['iter'].append(batch_num)\n",
    "                self.errors_log['loss'].append(batch_loss)\n",
    "                #print(batch_loss)\n",
    "\n",
    "        return self\n",
    "        \n",
    "    def predict(self, X):\n",
    "        '''\n",
    "        Предсказание класса\n",
    "        X - матрица объекты-признаки\n",
    "        Не забудте тип модели (линейная или логистическая регрессия)!\n",
    "        '''\n",
    "        X = np.asarray(X)\n",
    "        if self.model_type == 'lin_reg':\n",
    "            y_hat = np.hstack((np.ones(X.shape[0]).reshape(-1,1), X) @ self.weights)\n",
    "        else:\n",
    "            y_hat = sigmoid(X) @ self.weights\n",
    "        # Желательно здесь использовать матричные операции между X и весами, например, numpy.dot \n",
    "        return y_hat"
   ]
  },
  {
   "cell_type": "code",
   "execution_count": 32,
   "id": "71dc1707",
   "metadata": {},
   "outputs": [],
   "source": [
    "def plot_decision_boundary(clf):\n",
    "    x = [0, 5]\n",
    "    if clf.model_type == 'log_reg':\n",
    "        plt.plot(x, [(-clf.weights[0]) /clf.weights[2] - clf.weights[1]/clf.weights[2] * x[0], \n",
    "                 -clf.weights[0]/clf.weights[2] - clf.weights[1]/clf.weights[2] * x[1]])\n",
    "    else:\n",
    "        plt.plot(x, [(-clf.weights[0] + 0.5) /clf.weights[2] - clf.weights[1]/clf.weights[2] * x[0], \n",
    "            (-clf.weights[0] + 0.5)/clf.weights[2] - clf.weights[1]/clf.weights[2] * x[1]])\n",
    "    pass"
   ]
  },
  {
   "cell_type": "code",
   "execution_count": 33,
   "id": "2d7de503",
   "metadata": {},
   "outputs": [],
   "source": [
    "from sklearn.linear_model import LogisticRegression"
   ]
  },
  {
   "cell_type": "code",
   "execution_count": 40,
   "id": "530496d8",
   "metadata": {},
   "outputs": [
    {
     "name": "stdout",
     "output_type": "stream",
     "text": [
      "[-5.95169714] [ 1.18906085 -1.448645  ]\n",
      "-1.1352367624941795 -0.132151967878572 0.1024801851199111\n"
     ]
    },
    {
     "data": {
      "text/plain": [
       "<matplotlib.collections.PathCollection at 0x2392b923248>"
      ]
     },
     "execution_count": 40,
     "metadata": {},
     "output_type": "execute_result"
    },
    {
     "data": {
      "image/png": "[encoded data removed]",
      "text/plain": [
       "<Figure size 864x360 with 1 Axes>"
      ]
     },
     "metadata": {},
     "output_type": "display_data"
    }
   ],
   "source": [
    "C1 = np.array([[0., -0.8], [1.5, 0.8]])\n",
    "C2 = np.array([[1., -0.7], [2., 0.7]])\n",
    "gauss1 = np.dot(np.random.randn(200, 2) + np.array([5, 3]), C1)\n",
    "gauss2 = np.dot(np.random.randn(200, 2) + np.array([1.5, 0]), C2)\n",
    "\n",
    "\n",
    "X = np.vstack([gauss1, gauss2])\n",
    "y = np.r_[np.ones(200), np.zeros(200)]\n",
    "scclf = LogisticRegression()\n",
    "scclf.fit(X, y)\n",
    "   \n",
    "log_clf = MySGDClassifier(batch_generator,model_type = 'log_reg')\n",
    "log_clf.fit(X, y)\n",
    "lin_clf = MySGDClassifier(batch_generator,model_type = 'lin_reg')\n",
    "lin_clf.fit(X, y)\n",
    "#print(scclf.coef_)\n",
    "x = [0, 5]\n",
    "inter = scclf.intercept_\n",
    "coef = scclf.coef_.reshape(-1)\n",
    "print(inter, coef)\n",
    "plt.plot(x, [(-inter) /coef[1] - coef[0]/coef[1] * x[0], \n",
    "          -inter/coef[1] - coef[0]/coef[1] * x[1]])\n",
    "print(log_clf.weights[0], log_clf.weights[1], log_clf.weights[2])\n",
    "#print(clf.errors_log)\n",
    "#plot_decision_boundary(lin_clf)\n",
    "plot_decision_boundary(log_clf)\n",
    "\n",
    "plt.scatter(X[:,0], X[:,1], c=y)"
   ]
  }
 ],
 "metadata": {
  "kernelspec": {
   "display_name": "Python 3 (ipykernel)",
   "language": "python",
   "name": "python3"
  },
  "language_info": {
   "codemirror_mode": {
    "name": "ipython",
    "version": 3
   },
   "file_extension": ".py",
   "mimetype": "text/x-python",
   "name": "python",
   "nbconvert_exporter": "python",
   "pygments_lexer": "ipython3",
   "version": "3.7.11"
  }
 },
 "nbformat": 4,
 "nbformat_minor": 5
}
