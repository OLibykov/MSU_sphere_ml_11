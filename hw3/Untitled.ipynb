{
 "cells": [
  {
   "cell_type": "code",
   "execution_count": 1,
   "id": "5c1b0456",
   "metadata": {},
   "outputs": [],
   "source": [
    "import numpy as np"
   ]
  },
  {
   "cell_type": "code",
   "execution_count": 390,
   "id": "554267c0",
   "metadata": {},
   "outputs": [
    {
     "data": {
      "text/plain": [
       "(array([[4, 7, 5],\n",
       "        [9, 1, 2],\n",
       "        [3, 6, 8]]),\n",
       " array([1, 2, 3]))"
      ]
     },
     "execution_count": 390,
     "metadata": {},
     "output_type": "execute_result"
    }
   ],
   "source": [
    "x = np.array([[4, 7, 5], \n",
    "              [9, 1, 2],\n",
    "              [3, 6, 8]   \n",
    "              ])\n",
    "y = np.array([1, 2, 3])\n",
    "x, y"
   ]
  },
  {
   "cell_type": "code",
   "execution_count": 391,
   "id": "f7ac8ae4",
   "metadata": {},
   "outputs": [
    {
     "data": {
      "text/plain": [
       "array([[1, 3, 2],\n",
       "       [2, 3, 1],\n",
       "       [1, 2, 3]])"
      ]
     },
     "execution_count": 391,
     "metadata": {},
     "output_type": "execute_result"
    }
   ],
   "source": [
    "y[x.argsort(axis = 1)]"
   ]
  },
  {
   "cell_type": "code",
   "execution_count": 22,
   "id": "7ba4e9c9",
   "metadata": {
    "scrolled": true
   },
   "outputs": [
    {
     "data": {
      "text/plain": [
       "array([[7, 1],\n",
       "       [9, 2],\n",
       "       [6, 3]])"
      ]
     },
     "execution_count": 22,
     "metadata": {},
     "output_type": "execute_result"
    }
   ],
   "source": [
    "tmp = np.hstack((x[:, 1].reshape(-1, 1), y.reshape(-1, 1)))\n",
    "tmp"
   ]
  },
  {
   "cell_type": "code",
   "execution_count": 398,
   "id": "022ce746",
   "metadata": {},
   "outputs": [
    {
     "data": {
      "text/plain": [
       "array([[0., 1., 2., 3., 4., 5., 6., 7., 8., 9.],\n",
       "       [0., 1., 2., 3., 4., 5., 6., 7., 8., 9.],\n",
       "       [0., 1., 2., 3., 4., 5., 6., 7., 8., 9.],\n",
       "       [0., 1., 2., 3., 4., 5., 6., 7., 8., 9.],\n",
       "       [0., 1., 2., 3., 4., 5., 6., 7., 8., 9.],\n",
       "       [0., 1., 2., 3., 4., 5., 6., 7., 8., 9.],\n",
       "       [0., 1., 2., 3., 4., 5., 6., 7., 8., 9.],\n",
       "       [0., 1., 2., 3., 4., 5., 6., 7., 8., 9.],\n",
       "       [0., 1., 2., 3., 4., 5., 6., 7., 8., 9.],\n",
       "       [0., 1., 2., 3., 4., 5., 6., 7., 8., 9.],\n",
       "       [0., 1., 2., 3., 4., 5., 6., 7., 8., 9.],\n",
       "       [0., 1., 2., 3., 4., 5., 6., 7., 8., 9.],\n",
       "       [0., 1., 2., 3., 4., 5., 6., 7., 8., 9.]])"
      ]
     },
     "execution_count": 398,
     "metadata": {},
     "output_type": "execute_result"
    }
   ],
   "source": [
    "l = np.array(np.array(range(10)) + np.zeros(13).reshape(-1, 1))\n",
    "l"
   ]
  },
  {
   "cell_type": "code",
   "execution_count": 399,
   "id": "f6327e30",
   "metadata": {},
   "outputs": [
    {
     "data": {
      "text/plain": [
       "array([[ 7.,  6.,  5.,  4.,  3.,  2.,  1.,  0., -1., -2.],\n",
       "       [ 7.,  6.,  5.,  4.,  3.,  2.,  1.,  0., -1., -2.],\n",
       "       [ 7.,  6.,  5.,  4.,  3.,  2.,  1.,  0., -1., -2.],\n",
       "       [ 7.,  6.,  5.,  4.,  3.,  2.,  1.,  0., -1., -2.],\n",
       "       [ 7.,  6.,  5.,  4.,  3.,  2.,  1.,  0., -1., -2.],\n",
       "       [ 7.,  6.,  5.,  4.,  3.,  2.,  1.,  0., -1., -2.],\n",
       "       [ 7.,  6.,  5.,  4.,  3.,  2.,  1.,  0., -1., -2.],\n",
       "       [ 7.,  6.,  5.,  4.,  3.,  2.,  1.,  0., -1., -2.],\n",
       "       [ 7.,  6.,  5.,  4.,  3.,  2.,  1.,  0., -1., -2.],\n",
       "       [ 7.,  6.,  5.,  4.,  3.,  2.,  1.,  0., -1., -2.],\n",
       "       [ 7.,  6.,  5.,  4.,  3.,  2.,  1.,  0., -1., -2.],\n",
       "       [ 7.,  6.,  5.,  4.,  3.,  2.,  1.,  0., -1., -2.],\n",
       "       [ 7.,  6.,  5.,  4.,  3.,  2.,  1.,  0., -1., -2.]])"
      ]
     },
     "execution_count": 399,
     "metadata": {},
     "output_type": "execute_result"
    }
   ],
   "source": [
    "7 - l"
   ]
  },
  {
   "cell_type": "code",
   "execution_count": 23,
   "id": "754c0051",
   "metadata": {},
   "outputs": [
    {
     "data": {
      "text/plain": [
       "array([[6, 3],\n",
       "       [7, 1],\n",
       "       [9, 2]])"
      ]
     },
     "execution_count": 23,
     "metadata": {},
     "output_type": "execute_result"
    }
   ],
   "source": [
    "tmp[tmp[:, 0].argsort()]"
   ]
  },
  {
   "cell_type": "code",
   "execution_count": 26,
   "id": "399a97a4",
   "metadata": {},
   "outputs": [
    {
     "name": "stdout",
     "output_type": "stream",
     "text": [
      "1\n",
      "2\n"
     ]
    }
   ],
   "source": [
    "for i in range (1, y.shape[0]):\n",
    "   print(i) "
   ]
  },
  {
   "cell_type": "code",
   "execution_count": 44,
   "id": "a02c9718",
   "metadata": {},
   "outputs": [
    {
     "data": {
      "text/plain": [
       "array([0.27272727, 0.27272727, 0.45454545])"
      ]
     },
     "execution_count": 44,
     "metadata": {},
     "output_type": "execute_result"
    }
   ],
   "source": [
    "_, counts = np.unique(y, return_counts = True)\n",
    "p = counts/y.shape[0]\n",
    "p"
   ]
  },
  {
   "cell_type": "code",
   "execution_count": 50,
   "id": "378113bc",
   "metadata": {},
   "outputs": [
    {
     "data": {
      "text/plain": [
       "1.5394847569315018"
      ]
     },
     "execution_count": 50,
     "metadata": {},
     "output_type": "execute_result"
    }
   ],
   "source": [
    "H = -np.sum(p * np.log(p)/np.log(2))\n",
    "H"
   ]
  },
  {
   "cell_type": "code",
   "execution_count": 52,
   "id": "4b2b8da4",
   "metadata": {},
   "outputs": [
    {
     "data": {
      "text/plain": [
       "array([-1.29928298, -1.29928298, -0.78845736])"
      ]
     },
     "execution_count": 52,
     "metadata": {},
     "output_type": "execute_result"
    }
   ],
   "source": [
    "np.log(p)"
   ]
  },
  {
   "cell_type": "code",
   "execution_count": 54,
   "id": "4b4e7eb1",
   "metadata": {},
   "outputs": [
    {
     "data": {
      "text/plain": [
       "-1.6094379124341003"
      ]
     },
     "execution_count": 54,
     "metadata": {},
     "output_type": "execute_result"
    }
   ],
   "source": [
    "np.log(0.2)"
   ]
  },
  {
   "cell_type": "code",
   "execution_count": 67,
   "id": "393021bf",
   "metadata": {},
   "outputs": [],
   "source": [
    "idx = np.asarray([2, 3])\n",
    "idx = idx.reshape(1, -1)\n",
    "y = y.reshape(-1, 1)"
   ]
  },
  {
   "cell_type": "code",
   "execution_count": 71,
   "id": "da986ec6",
   "metadata": {},
   "outputs": [
    {
     "data": {
      "text/plain": [
       "0"
      ]
     },
     "execution_count": 71,
     "metadata": {},
     "output_type": "execute_result"
    }
   ],
   "source": [
    "y.argmin()"
   ]
  },
  {
   "cell_type": "code",
   "execution_count": 72,
   "id": "592fa07c",
   "metadata": {},
   "outputs": [],
   "source": [
    "z = np.zeros(10)"
   ]
  },
  {
   "cell_type": "code",
   "execution_count": 79,
   "id": "96a666a1",
   "metadata": {},
   "outputs": [
    {
     "data": {
      "text/plain": [
       "(array([0.]), array([10], dtype=int64))"
      ]
     },
     "execution_count": 79,
     "metadata": {},
     "output_type": "execute_result"
    }
   ],
   "source": [
    "clss, counts = np.unique(z, return_counts=True)\n",
    "clss, counts"
   ]
  },
  {
   "cell_type": "code",
   "execution_count": 82,
   "id": "c565db7d",
   "metadata": {},
   "outputs": [
    {
     "data": {
      "text/plain": [
       "60"
      ]
     },
     "execution_count": 82,
     "metadata": {},
     "output_type": "execute_result"
    }
   ],
   "source": [
    "np.sum(y ** 2)"
   ]
  },
  {
   "cell_type": "code",
   "execution_count": 356,
   "id": "71b7ca91",
   "metadata": {},
   "outputs": [],
   "source": [
    "def impurity1(p):\n",
    "    return 1 - np.sum(p ** 2)\n"
   ]
  },
  {
   "cell_type": "code",
   "execution_count": 378,
   "id": "a70beaa0",
   "metadata": {},
   "outputs": [],
   "source": [
    "def find_threshold1(x, y):\n",
    "    x = np.asarray(x)\n",
    "    y = np.asarray(y)\n",
    "    R = y.size\n",
    "    n_class, counts = np.unique(y, return_counts = True)\n",
    "    H = impurity1(counts/R)\n",
    "    max_Q = 0\n",
    "    max_idx = [0, 0, 0]\n",
    "    for i in range (x.shape[1]):\n",
    "        feature_response = np.hstack((x[:, i].reshape(-1, 1), y.reshape(-1, 1)))\n",
    "        feature_response = feature_response[feature_response[:, 0].argsort()]\n",
    "        Rl = 0\n",
    "        Rr = R\n",
    "        counts_left = np.zeros(counts.size)\n",
    "        counts_right = np.copy(counts)\n",
    "        for j in range (0, R - 1):\n",
    "            Rl += 1\n",
    "            Rr -= 1\n",
    "            idx = feature_response[j, 1]\n",
    "            counts_left[int(idx) == n_class] += 1\n",
    "            counts_right[int(idx) == n_class] -= 1\n",
    "            Hl = impurity1(counts_left/Rl)\n",
    "            Hr = impurity1(counts_right/Rr)\n",
    "            Q = H - (Hl * Rl / R) - (Hr * Rr / R)\n",
    "            if Q > max_Q:\n",
    "                max_Q = Q\n",
    "                max_idx[0] = i\n",
    "                max_idx[1] = np.mean(feature_response[j:j+2, 0])\n",
    "                max_idx[2] = max_Q\n",
    "    return max_idx\n"
   ]
  },
  {
   "cell_type": "code",
   "execution_count": 379,
   "id": "a46a05db",
   "metadata": {},
   "outputs": [],
   "source": [
    "x = np.array([[2, 4, 3, 1, 5],[3,7,5,2,1]])\n",
    "y = np.array([0,1,1,0,1])"
   ]
  },
  {
   "cell_type": "code",
   "execution_count": 380,
   "id": "bdc204a9",
   "metadata": {},
   "outputs": [
    {
     "data": {
      "text/plain": [
       "array([[2, 3],\n",
       "       [4, 7],\n",
       "       [3, 5],\n",
       "       [1, 2],\n",
       "       [1, 5]])"
      ]
     },
     "execution_count": 380,
     "metadata": {},
     "output_type": "execute_result"
    }
   ],
   "source": [
    "arg_sort_x = np.sort(x, axis = 0)\n",
    "arg_sort_x.T"
   ]
  },
  {
   "cell_type": "code",
   "execution_count": 381,
   "id": "4d183372",
   "metadata": {},
   "outputs": [
    {
     "data": {
      "text/plain": [
       "array([[2, 3],\n",
       "       [4, 7],\n",
       "       [3, 5],\n",
       "       [1, 2],\n",
       "       [5, 1]])"
      ]
     },
     "execution_count": 381,
     "metadata": {},
     "output_type": "execute_result"
    }
   ],
   "source": [
    "x = x.T\n",
    "x"
   ]
  },
  {
   "cell_type": "code",
   "execution_count": 382,
   "id": "e56b045e",
   "metadata": {},
   "outputs": [
    {
     "data": {
      "text/plain": [
       "array([[0, 1],\n",
       "       [0, 0],\n",
       "       [1, 0],\n",
       "       [1, 1],\n",
       "       [1, 1]])"
      ]
     },
     "execution_count": 382,
     "metadata": {},
     "output_type": "execute_result"
    }
   ],
   "source": [
    "arg_sort_y = y[x.argsort(axis = 0)]\n",
    "R = y.size\n",
    "n_class, counts = np.unique(y, return_counts = True)\n",
    "H = impurity1(counts/R)\n",
    "arg_sort_y"
   ]
  },
  {
   "cell_type": "code",
   "execution_count": 383,
   "id": "196a5eb8",
   "metadata": {},
   "outputs": [],
   "source": [
    "def count_q(y):\n",
    "    max_Q = 0\n",
    "    max_idx = [0, 0]\n",
    "    for j in range (0, R - 1):\n",
    "        n_class_left, counts_left = np.unique(y[0:j+1], return_counts = True)\n",
    "        n_class_right, counts_right = np.unique(y[j+1:y.size], return_counts = True)\n",
    "        Rl = j + 1\n",
    "        Rr = y.size - Rl\n",
    "        Hl = impurity1(counts_left/Rl)\n",
    "        Hr = impurity1(counts_right/Rr)\n",
    "        Q = H - (Hl * Rl / R) - (Hr * Rr / R)\n",
    "        if Q > max_Q:\n",
    "            max_Q = Q \n",
    "            max_idx[0] = Q\n",
    "            max_idx[1] = j\n",
    "\n",
    "    return max_idx \n",
    "\n",
    "result = np.apply_along_axis(count_q, 0, arg_sort_y)"
   ]
  },
  {
   "cell_type": "code",
   "execution_count": 384,
   "id": "66141c55",
   "metadata": {},
   "outputs": [
    {
     "data": {
      "text/plain": [
       "[0, 2.5, 0.48]"
      ]
     },
     "execution_count": 384,
     "metadata": {},
     "output_type": "execute_result"
    }
   ],
   "source": [
    "find_threshold1(x, y)"
   ]
  },
  {
   "cell_type": "code",
   "execution_count": 385,
   "id": "72e49a69",
   "metadata": {},
   "outputs": [],
   "source": [
    "result = result.T\n"
   ]
  },
  {
   "cell_type": "code",
   "execution_count": 386,
   "id": "ec9dfca1",
   "metadata": {},
   "outputs": [
    {
     "data": {
      "text/plain": [
       "array([[0.48      , 1.        ],\n",
       "       [0.21333333, 2.        ]])"
      ]
     },
     "execution_count": 386,
     "metadata": {},
     "output_type": "execute_result"
    }
   ],
   "source": [
    "result"
   ]
  },
  {
   "cell_type": "code",
   "execution_count": 372,
   "id": "abb679ea",
   "metadata": {},
   "outputs": [
    {
     "data": {
      "text/plain": [
       "1.0"
      ]
     },
     "execution_count": 372,
     "metadata": {},
     "output_type": "execute_result"
    }
   ],
   "source": [
    "idx = np.argmax(result[0])\n",
    "res = result[1][idx]\n",
    "res"
   ]
  },
  {
   "cell_type": "code",
   "execution_count": null,
   "id": "ef83161d",
   "metadata": {},
   "outputs": [],
   "source": []
  }
 ],
 "metadata": {
  "kernelspec": {
   "display_name": "Python 3 (ipykernel)",
   "language": "python",
   "name": "python3"
  },
  "language_info": {
   "codemirror_mode": {
    "name": "ipython",
    "version": 3
   },
   "file_extension": ".py",
   "mimetype": "text/x-python",
   "name": "python",
   "nbconvert_exporter": "python",
   "pygments_lexer": "ipython3",
   "version": "3.7.11"
  }
 },
 "nbformat": 4,
 "nbformat_minor": 5
}
